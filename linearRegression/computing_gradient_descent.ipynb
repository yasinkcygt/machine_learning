{
 "cells": [
  {
   "cell_type": "code",
   "execution_count": null,
   "id": "1225e45d-aa71-4bd0-94d6-7a25162acbc4",
   "metadata": {},
   "outputs": [],
   "source": [
    "import copy, math\n",
    "import numpy as np\n",
    "import matplotlib.pyplot as plt\n",
    "plt.style.use('./deeplearning.mplstyle')\n",
    "np.set_printoptions(precision=2)  # reduced display precision on numpy arrays"
   ]
  },
  {
   "cell_type": "code",
   "execution_count": null,
   "id": "c243722b-058a-4eda-a54d-dd948c5ea534",
   "metadata": {},
   "outputs": [],
   "source": [
    "X_train = np.array([[2104, 5, 1, 45], [1416, 3, 2, 40], [852, 2, 1, 35]])\n",
    "y_train = np.array([460, 232, 178])\n",
    "\n",
    "print(f\"X_train: {X_train}\")\n",
    "print(f\"\\ny_train: {y_train}\")"
   ]
  },
  {
   "cell_type": "code",
   "execution_count": null,
   "id": "a8fcb74e-f866-4202-ac8f-61d87fa12d24",
   "metadata": {},
   "outputs": [],
   "source": [
    "print(f\"X_train.shape: {X_train.shape} , data type: {type(X_train)}\")\n",
    "print(f\"y_train.shape: {y_train.shape} , data type: {type(y_train)}\")"
   ]
  },
  {
   "cell_type": "code",
   "execution_count": null,
   "id": "ae484fef-de65-43e5-942f-3a4008059489",
   "metadata": {},
   "outputs": [],
   "source": [
    "b_init = 785.1811367994083     # value, scalar\n",
    "w_init = np.array([ 0.39133535, 18.75376741, -53.36032453, -26.42131618])    # one dimensional\n",
    "print(f\"w_init shape: {w_init.shape}, b_init type: {type(b_init)}\")"
   ]
  },
  {
   "cell_type": "code",
   "execution_count": null,
   "id": "126190a3-a833-4c01-8cf1-2c3fc9c367d3",
   "metadata": {},
   "outputs": [],
   "source": [
    "def predict_single_loop(x, w, b):\n",
    "\n",
    "    m = x.shape[0]\n",
    "    f_wb_i = 0\n",
    "\n",
    "    for i in range(m):\n",
    "        f_wb_i += w[i] * x[i]\n",
    "    f_wb_i = f_wb_i + b\n",
    "\n",
    "    return f_wb_i"
   ]
  },
  {
   "cell_type": "code",
   "execution_count": null,
   "id": "9c5fe2f2-e4c8-435f-9f75-d1339eaebb20",
   "metadata": {},
   "outputs": [],
   "source": [
    "# get a row from our training data\n",
    "x_vec = X_train[0,:]\n",
    "print(f\"x_vec shape {x_vec.shape}, x_vec value: {x_vec}\")"
   ]
  },
  {
   "cell_type": "code",
   "execution_count": null,
   "id": "2728a354-6f8b-4f0e-993f-5b7e91cf91de",
   "metadata": {},
   "outputs": [],
   "source": [
    "# make a prediction\n",
    "f_wb = predict_single_loop(x_vec, w_init, b_init)    # for the first line (entire line 0, with the chosen weight, the chosen intercept)\n",
    "\n",
    "print(f\"f_wb shape {f_wb.shape}, prediction: {f_wb}\")"
   ]
  },
  {
   "cell_type": "code",
   "execution_count": null,
   "id": "9e6e9332-5c3b-4336-bf50-a95df78f196a",
   "metadata": {},
   "outputs": [],
   "source": [
    "def predict_dot(x, w, b):\n",
    "\n",
    "    m = x.shape[0]\n",
    "    f_wb_i = 0\n",
    "\n",
    "    for i in range(m):\n",
    "        f_wb_i += np.dot(w,x) + b\n",
    "    \n",
    "    return f_wb_i"
   ]
  },
  {
   "cell_type": "code",
   "execution_count": null,
   "id": "817f5db0-88eb-4f4c-b4ef-39afb35bb996",
   "metadata": {},
   "outputs": [],
   "source": [
    "# make a prediction\n",
    "f_wb = predict_single_loop(x_vec, w_init, b_init)    # for the first line (entire line 0, with the chosen weight, the chosen intercept)\n",
    "\n",
    "print(f\"f_wb shape {f_wb.shape}, prediction: {f_wb}\")"
   ]
  },
  {
   "cell_type": "markdown",
   "id": "120e5c3c-23ad-41bf-a9e6-ba2f64569a83",
   "metadata": {},
   "source": [
    "The equation for the cost function with multiple variables $J(\\mathbf{w},b)$ is:\n",
    "$$J(\\mathbf{w},b) = \\frac{1}{2m} \\sum\\limits_{i = 0}^{m-1} (f_{\\mathbf{w},b}(\\mathbf{x}^{(i)}) - y^{(i)})^2 \\tag{3}$$ \n",
    "where:\n",
    "$$ f_{\\mathbf{w},b}(\\mathbf{x}^{(i)}) = \\mathbf{w} \\cdot \\mathbf{x}^{(i)} + b  \\tag{4} $$ "
   ]
  },
  {
   "cell_type": "code",
   "execution_count": null,
   "id": "000c748f-205a-4305-935f-7334a2bc7f35",
   "metadata": {},
   "outputs": [],
   "source": [
    "def compute_cost(x, y, w, b):\n",
    "\n",
    "    m = x.shape[0]\n",
    "\n",
    "    total_cost = 0.0\n",
    "\n",
    "    for i in range(m):\n",
    "        f_wb_cost = np.dot(w, x[i]) + b\n",
    "\n",
    "        total_cost += (f_wb_cost - y[i]) ** 2\n",
    "\n",
    "    total_cost = total_cost / (2 * m)\n",
    "\n",
    "    return total_cost"
   ]
  },
  {
   "cell_type": "code",
   "execution_count": null,
   "id": "8e79b2fb-c777-4ce1-9cdf-4b3a9ea2027b",
   "metadata": {},
   "outputs": [],
   "source": [
    "# Compute and display cost using our pre-chosen optimal parameters. \n",
    "cost = compute_cost(X_train, y_train, w_init, b_init)\n",
    "print(f'Cost at optimal w : {cost}')"
   ]
  },
  {
   "cell_type": "markdown",
   "id": "206ec397-3100-44a1-959a-1839663d3d94",
   "metadata": {},
   "source": [
    "<a name=\"toc_15456_5\"></a>\n",
    "# 5 Gradient Descent With Multiple Variables\n",
    "Gradient descent for multiple variables:\n",
    "\n",
    "$$\\begin{align*} \\text{repeat}&\\text{ until convergence:} \\; \\lbrace \\newline\\;\n",
    "& w_j = w_j -  \\alpha \\frac{\\partial J(\\mathbf{w},b)}{\\partial w_j} \\tag{5}  \\; & \\text{for j = 0..n-1}\\newline\n",
    "&b\\ \\ = b -  \\alpha \\frac{\\partial J(\\mathbf{w},b)}{\\partial b}  \\newline \\rbrace\n",
    "\\end{align*}$$\n",
    "\n",
    "where, n is the number of features, parameters $w_j$,  $b$, are updated simultaneously and where  \n",
    "\n",
    "$$\n",
    "\\begin{align}\n",
    "\\frac{\\partial J(\\mathbf{w},b)}{\\partial w_j}  &= \\frac{1}{m} \\sum\\limits_{i = 0}^{m-1} (f_{\\mathbf{w},b}(\\mathbf{x}^{(i)}) - y^{(i)})x_{j}^{(i)} \\tag{6}  \\\\\n",
    "\\frac{\\partial J(\\mathbf{w},b)}{\\partial b}  &= \\frac{1}{m} \\sum\\limits_{i = 0}^{m-1} (f_{\\mathbf{w},b}(\\mathbf{x}^{(i)}) - y^{(i)}) \\tag{7}\n",
    "\\end{align}\n",
    "$$\n",
    "* m is the number of training examples in the data set\n",
    "\n",
    "    \n",
    "*  $f_{\\mathbf{w},b}(\\mathbf{x}^{(i)})$ is the model's prediction, while $y^{(i)}$ is the target value\n"
   ]
  },
  {
   "cell_type": "code",
   "execution_count": null,
   "id": "9703af3a-81ff-4679-9eb2-95cc47f24ce3",
   "metadata": {},
   "outputs": [],
   "source": [
    "def compute_gradient(x, y, w, b):\n",
    "\n",
    "    m,n = x.shape     # m = number of training examples, n = number of features\n",
    "    \n",
    "\n",
    "    dj_dw = np.zeros(n,)\n",
    "    dj_db = 0\n",
    "    \n",
    "\n",
    "    for i in range(m):  # for each training example\n",
    "        err = ((np.dot(w,x[i]) + b) - y[i])     # e^(i) = y_pred^(i) - y_act^(i)\n",
    "\n",
    "        for j in range(n):    # over all features\n",
    "            dj_dw[j] = dj_dw[j] + err * x[i,j]   \n",
    "\n",
    "        dj_db = dj_db +  err\n",
    "\n",
    "    dj_dw = dj_dw / m\n",
    "    dj_db = dj_db / m\n",
    "\n",
    "    return dj_dw, dj_db    # Mean derivatives (gradients)\n",
    "        "
   ]
  },
  {
   "cell_type": "code",
   "execution_count": null,
   "id": "ed5215b5-4d0c-432d-b472-f764a4db2def",
   "metadata": {},
   "outputs": [],
   "source": [
    "#Compute and display gradient \n",
    "tmp_dj_dw, tmp_dj_db = compute_gradient(X_train, y_train, w_init, b_init)\n",
    "print(f'dj_db at initial w,b: {tmp_dj_db}')\n",
    "print(f'dj_dw at initial w,b: \\n {tmp_dj_dw}')"
   ]
  },
  {
   "cell_type": "markdown",
   "id": "3c54e257-4b89-4fca-baae-dc031011e07f",
   "metadata": {},
   "source": [
    "# Regression Metrics Formulas\n",
    "\n",
    "## 1️ Error (Residual / Hata)\n",
    "\n",
    ">Her bir örnek için tahmin ile gerçek değer arasındaki fark:  \n",
    "$$\n",
    "e^{(i)} = \\hat{y}^{(i)} - y^{(i)}\n",
    "$$\n",
    "\n",
    "---\n",
    "\n",
    "## 2️ Loss (Örnek başına kayıp)\n",
    "\n",
    ">###  a) MSE Loss\n",
    "$$\n",
    "L^{(i)}_{\\text{MSE}} = \\big( e^{(i)} \\big)^2 = (\\hat{y}^{(i)} - y^{(i)})^2\n",
    "$$\n",
    "\n",
    ">### b) MAE Loss\n",
    "$$\n",
    "L^{(i)}_{\\text{MAE}} = \\big| e^{(i)} \\big| = |\\hat{y}^{(i)} - y^{(i)}|\n",
    "$$\n",
    "\n",
    "---\n",
    "\n",
    "## 3️ Cost (Tüm veri seti için ortalama kayıp)\n",
    "\n",
    ">### a) MSE Cost\n",
    "Ortalama kare hata (genellikle 1/2m ile normalize edilir):  \n",
    "$$\n",
    "J_{\\text{MSE}}(w,b) = \\frac{1}{2m} \\sum_{i=1}^{m} (\\hat{y}^{(i)} - y^{(i)})^2\n",
    "$$\n",
    "\n",
    ">### b) MAE Cost\n",
    "Ortalama mutlak hata:  \n",
    "$$\n",
    "J_{\\text{MAE}}(w,b) = \\frac{1}{m} \\sum_{i=1}^{m} |\\hat{y}^{(i)} - y^{(i)}|\n",
    "$$\n"
   ]
  },
  {
   "cell_type": "code",
   "execution_count": null,
   "id": "3ad22e02-39c1-4cba-9c7a-5d243aba247e",
   "metadata": {},
   "outputs": [],
   "source": [
    "def gradient_descent(X, y, w_in, b_in, cost_function,  gradient_function, alpha, num_iters):\n",
    "\n",
    "    J_history = []\n",
    "    w = copy.deepcopy(w_in)\n",
    "    b = b_in\n",
    "\n",
    "    for i in range(num_iters):\n",
    "        dj_dw, dj_db = gradient_function(X, y, w, b)\n",
    "\n",
    "        w = w - alpha * dj_dw\n",
    "        b = b - alpha * dj_db\n",
    "\n",
    "        # Save cost J at each iteration\n",
    "        if i<100000:      # prevent resource exhaustion (limit)  ---- üzerini bellekte tutma\n",
    "            J_history.append( cost_function(X, y, w, b))\n",
    "\n",
    "            # Print cost every at intervals 10 times or as many iterations if < 10\n",
    "        if i% math.ceil(num_iters / 10) == 0:\n",
    "            print(f\"Iteration {i:4d}: Cost {J_history[-1]:8.2f}   \")\n",
    "\n",
    "    return w, b, J_history #return final w,b and J history for graphing"
   ]
  },
  {
   "cell_type": "code",
   "execution_count": null,
   "id": "06e38564-5682-4659-be93-df64d0413205",
   "metadata": {},
   "outputs": [],
   "source": [
    "# initialize parameters\n",
    "initial_w = np.zeros_like(w_init)\n",
    "initial_b = 0.\n",
    "# some gradient descent settings\n",
    "iterations = 1174\n",
    "alpha = 5.0e-7\n",
    "# run gradient descent \n",
    "\n",
    "w_final, b_final, J_hst = gradient_descent(X_train, y_train, initial_w, initial_b,\n",
    "                                          compute_cost, compute_gradient, alpha, iterations)\n",
    "\n",
    "print(f\"b,w found by gradient descent: {b_final:0.2f},{w_final} \")\n",
    "m,_ = X_train.shape\n",
    "for i in range(m):\n",
    "    print(f\"prediction: {np.dot(w_final ,X_train[i]) + b_final:0.2f}, target value: {y_train[i]}\")\n",
    "    "
   ]
  },
  {
   "cell_type": "code",
   "execution_count": null,
   "id": "26fc6d8f-ef66-46c0-a0fa-7dcfdbc2fa21",
   "metadata": {},
   "outputs": [],
   "source": [
    "# plot cost versus iteration  \n",
    "fig, (ax1, ax2) = plt.subplots(1, 2, constrained_layout=True, figsize=(12, 4))\n",
    "ax1.plot(J_hst)\n",
    "ax2.plot(100 + np.arange(len(J_hst[100:])), J_hst[100:])\n",
    "ax1.set_title(\"Cost vs. iteration\");  ax2.set_title(\"Cost vs. iteration (tail)\")\n",
    "ax1.set_ylabel('Cost')             ;  ax2.set_ylabel('Cost') \n",
    "ax1.set_xlabel('iteration step')   ;  ax2.set_xlabel('iteration step') \n",
    "plt.show()"
   ]
  },
  {
   "cell_type": "code",
   "execution_count": null,
   "id": "7cdfed91-7f32-4f1c-8fd1-51468e9156bf",
   "metadata": {},
   "outputs": [],
   "source": []
  }
 ],
 "metadata": {
  "kernelspec": {
   "display_name": "Python 3 (ipykernel)",
   "language": "python",
   "name": "python3"
  },
  "language_info": {
   "codemirror_mode": {
    "name": "ipython",
    "version": 3
   },
   "file_extension": ".py",
   "mimetype": "text/x-python",
   "name": "python",
   "nbconvert_exporter": "python",
   "pygments_lexer": "ipython3",
   "version": "3.11.6"
  }
 },
 "nbformat": 4,
 "nbformat_minor": 5
}
