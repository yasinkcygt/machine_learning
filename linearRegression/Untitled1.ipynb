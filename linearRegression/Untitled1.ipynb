{
 "cells": [
  {
   "cell_type": "code",
   "execution_count": 38,
   "id": "92514099-e220-48fe-82d0-dd62aa143fd6",
   "metadata": {
    "scrolled": true
   },
   "outputs": [
    {
     "name": "stdout",
     "output_type": "stream",
     "text": [
      "Requirement already satisfied: scikit-learn in c:\\users\\yasin\\appdata\\local\\programs\\python\\python310\\lib\\site-packages (1.6.1)\n",
      "Requirement already satisfied: numpy>=1.19.5 in c:\\users\\yasin\\appdata\\local\\programs\\python\\python310\\lib\\site-packages (from scikit-learn) (2.1.3)\n",
      "Requirement already satisfied: scipy>=1.6.0 in c:\\users\\yasin\\appdata\\local\\programs\\python\\python310\\lib\\site-packages (from scikit-learn) (1.15.2)\n",
      "Requirement already satisfied: joblib>=1.2.0 in c:\\users\\yasin\\appdata\\local\\programs\\python\\python310\\lib\\site-packages (from scikit-learn) (1.4.2)\n",
      "Requirement already satisfied: threadpoolctl>=3.1.0 in c:\\users\\yasin\\appdata\\local\\programs\\python\\python310\\lib\\site-packages (from scikit-learn) (3.6.0)\n",
      "Note: you may need to restart the kernel to use updated packages.\n"
     ]
    }
   ],
   "source": [
    "%pip install scikit-learn\n",
    "\n"
   ]
  },
  {
   "cell_type": "code",
   "execution_count": 39,
   "id": "bee52427-62a8-4f63-bfcb-2c68252bc91a",
   "metadata": {},
   "outputs": [],
   "source": [
    "from sklearn.linear_model import LinearRegression\n",
    "import pandas as pd"
   ]
  },
  {
   "cell_type": "code",
   "execution_count": 40,
   "id": "50f76f67-e277-4758-b0c1-e444224fd628",
   "metadata": {},
   "outputs": [],
   "source": [
    "#y = mx+mx+b    ne kadar feautre o kadar mx"
   ]
  },
  {
   "cell_type": "code",
   "execution_count": 41,
   "id": "5e7b928d-3a2d-4d93-8161-61e2067d48c7",
   "metadata": {},
   "outputs": [],
   "source": [
    "df=pd.read_csv(\"Student_Marks.csv\")"
   ]
  },
  {
   "cell_type": "code",
   "execution_count": 42,
   "id": "653f9798-7239-4347-8881-175aac36a7ad",
   "metadata": {},
   "outputs": [
    {
     "data": {
      "text/html": [
       "<div>\n",
       "<style scoped>\n",
       "    .dataframe tbody tr th:only-of-type {\n",
       "        vertical-align: middle;\n",
       "    }\n",
       "\n",
       "    .dataframe tbody tr th {\n",
       "        vertical-align: top;\n",
       "    }\n",
       "\n",
       "    .dataframe thead th {\n",
       "        text-align: right;\n",
       "    }\n",
       "</style>\n",
       "<table border=\"1\" class=\"dataframe\">\n",
       "  <thead>\n",
       "    <tr style=\"text-align: right;\">\n",
       "      <th></th>\n",
       "      <th>number_courses</th>\n",
       "      <th>time_study</th>\n",
       "      <th>Marks</th>\n",
       "    </tr>\n",
       "  </thead>\n",
       "  <tbody>\n",
       "    <tr>\n",
       "      <th>0</th>\n",
       "      <td>3</td>\n",
       "      <td>4.508</td>\n",
       "      <td>19.202</td>\n",
       "    </tr>\n",
       "    <tr>\n",
       "      <th>1</th>\n",
       "      <td>4</td>\n",
       "      <td>0.096</td>\n",
       "      <td>7.734</td>\n",
       "    </tr>\n",
       "    <tr>\n",
       "      <th>2</th>\n",
       "      <td>4</td>\n",
       "      <td>3.133</td>\n",
       "      <td>13.811</td>\n",
       "    </tr>\n",
       "  </tbody>\n",
       "</table>\n",
       "</div>"
      ],
      "text/plain": [
       "   number_courses  time_study   Marks\n",
       "0               3       4.508  19.202\n",
       "1               4       0.096   7.734\n",
       "2               4       3.133  13.811"
      ]
     },
     "execution_count": 42,
     "metadata": {},
     "output_type": "execute_result"
    }
   ],
   "source": [
    "df.head(3)"
   ]
  },
  {
   "cell_type": "code",
   "execution_count": 43,
   "id": "553270a2-2f62-4fb8-8eb2-05a16099ec89",
   "metadata": {},
   "outputs": [],
   "source": [
    "#y= a1x + a2x + b"
   ]
  },
  {
   "cell_type": "code",
   "execution_count": 44,
   "id": "37c0f4ad-d540-4756-91cc-a6fd5d4d6cd7",
   "metadata": {},
   "outputs": [],
   "source": [
    "y=df[[\"Marks\"]]\n",
    "x=df[[\"number_courses\", \"time_study\"]]"
   ]
  },
  {
   "cell_type": "code",
   "execution_count": 45,
   "id": "26e3bdd3-1f38-4eeb-ace8-c8e2ae10b8af",
   "metadata": {},
   "outputs": [
    {
     "name": "stdout",
     "output_type": "stream",
     "text": [
      "<class 'pandas.core.frame.DataFrame'>\n",
      "RangeIndex: 100 entries, 0 to 99\n",
      "Data columns (total 3 columns):\n",
      " #   Column          Non-Null Count  Dtype  \n",
      "---  ------          --------------  -----  \n",
      " 0   number_courses  100 non-null    int64  \n",
      " 1   time_study      100 non-null    float64\n",
      " 2   Marks           100 non-null    float64\n",
      "dtypes: float64(2), int64(1)\n",
      "memory usage: 2.5 KB\n"
     ]
    }
   ],
   "source": [
    "df.info()"
   ]
  },
  {
   "cell_type": "code",
   "execution_count": 46,
   "id": "9c711615-bc3f-4133-ba43-4cfda309b23e",
   "metadata": {},
   "outputs": [],
   "source": [
    "lm=LinearRegression()      # sklearn.Linear_model.LinearRegression()\n",
    "model=lm.fit(x,y) #train"
   ]
  },
  {
   "cell_type": "code",
   "execution_count": 47,
   "id": "b5374342-e8ad-4b83-b556-9eae504454a3",
   "metadata": {},
   "outputs": [
    {
     "data": {
      "text/plain": [
       "array([[37.79410825]])"
      ]
     },
     "execution_count": 47,
     "metadata": {},
     "output_type": "execute_result"
    }
   ],
   "source": [
    "X_new=pd.DataFrame([[4,7]], columns=[\"number_courses\", \"time_study\"])\n",
    "model.predict(X_new)  #prediction"
   ]
  },
  {
   "cell_type": "code",
   "execution_count": 48,
   "id": "5192fe16-0fa1-4091-84f7-f04b3272fcad",
   "metadata": {},
   "outputs": [
    {
     "data": {
      "text/plain": [
       "np.float64(55.299)"
      ]
     },
     "execution_count": 48,
     "metadata": {},
     "output_type": "execute_result"
    }
   ],
   "source": [
    "df[\"Marks\"].max()"
   ]
  },
  {
   "cell_type": "code",
   "execution_count": 49,
   "id": "33de5293-42dc-4dcf-8a2c-248e2c5a16c2",
   "metadata": {},
   "outputs": [
    {
     "data": {
      "text/plain": [
       "0.9403656320238896"
      ]
     },
     "execution_count": 49,
     "metadata": {},
     "output_type": "execute_result"
    }
   ],
   "source": [
    "model.score(x,y)"
   ]
  },
  {
   "cell_type": "code",
   "execution_count": 50,
   "id": "46b53b65-2b0c-4662-bd62-7fdb5fa2acc5",
   "metadata": {},
   "outputs": [],
   "source": [
    "df.columns=[\"sinif\", \"saat\", \"puan\"]"
   ]
  },
  {
   "cell_type": "code",
   "execution_count": 51,
   "id": "1802f41e-2399-4949-8f2c-033556640e96",
   "metadata": {},
   "outputs": [
    {
     "data": {
      "text/html": [
       "<div>\n",
       "<style scoped>\n",
       "    .dataframe tbody tr th:only-of-type {\n",
       "        vertical-align: middle;\n",
       "    }\n",
       "\n",
       "    .dataframe tbody tr th {\n",
       "        vertical-align: top;\n",
       "    }\n",
       "\n",
       "    .dataframe thead th {\n",
       "        text-align: right;\n",
       "    }\n",
       "</style>\n",
       "<table border=\"1\" class=\"dataframe\">\n",
       "  <thead>\n",
       "    <tr style=\"text-align: right;\">\n",
       "      <th></th>\n",
       "      <th>sinif</th>\n",
       "      <th>saat</th>\n",
       "      <th>puan</th>\n",
       "    </tr>\n",
       "  </thead>\n",
       "  <tbody>\n",
       "    <tr>\n",
       "      <th>0</th>\n",
       "      <td>3</td>\n",
       "      <td>4.508</td>\n",
       "      <td>19.202</td>\n",
       "    </tr>\n",
       "    <tr>\n",
       "      <th>1</th>\n",
       "      <td>4</td>\n",
       "      <td>0.096</td>\n",
       "      <td>7.734</td>\n",
       "    </tr>\n",
       "    <tr>\n",
       "      <th>2</th>\n",
       "      <td>4</td>\n",
       "      <td>3.133</td>\n",
       "      <td>13.811</td>\n",
       "    </tr>\n",
       "  </tbody>\n",
       "</table>\n",
       "</div>"
      ],
      "text/plain": [
       "   sinif   saat    puan\n",
       "0      3  4.508  19.202\n",
       "1      4  0.096   7.734\n",
       "2      4  3.133  13.811"
      ]
     },
     "execution_count": 51,
     "metadata": {},
     "output_type": "execute_result"
    }
   ],
   "source": [
    "df.head(3)"
   ]
  },
  {
   "cell_type": "code",
   "execution_count": 52,
   "id": "268d8194-3890-4e32-a83b-c328130f3ea3",
   "metadata": {},
   "outputs": [],
   "source": [
    "y=df[[\"puan\"]]\n",
    "x=df[[\"sinif\", \"saat\"]]"
   ]
  },
  {
   "cell_type": "code",
   "execution_count": 53,
   "id": "44cd4b8c-a877-43cb-8ca9-caba5ac8011b",
   "metadata": {},
   "outputs": [],
   "source": [
    "lm=LinearRegression()"
   ]
  },
  {
   "cell_type": "code",
   "execution_count": 54,
   "id": "600e2079-40ec-4c02-b9fc-69db66dac7f7",
   "metadata": {},
   "outputs": [],
   "source": [
    "model=lm.fit(x,y) "
   ]
  },
  {
   "cell_type": "code",
   "execution_count": 55,
   "id": "83ab8a5a-1e80-4268-9641-e0e8ccf1d201",
   "metadata": {},
   "outputs": [
    {
     "data": {
      "text/plain": [
       "0.9403656320238896"
      ]
     },
     "execution_count": 55,
     "metadata": {},
     "output_type": "execute_result"
    }
   ],
   "source": [
    "model.score(x,y)"
   ]
  },
  {
   "cell_type": "code",
   "execution_count": 56,
   "id": "077b2494-eb0f-41c7-bbaf-2a3c80afbcd4",
   "metadata": {},
   "outputs": [
    {
     "data": {
      "text/plain": [
       "array([[1.86405074, 5.39917879]])"
      ]
     },
     "execution_count": 56,
     "metadata": {},
     "output_type": "execute_result"
    }
   ],
   "source": [
    "model.coef_  #a1x + a2x   => a1 and a2 coefficients"
   ]
  },
  {
   "cell_type": "code",
   "execution_count": 57,
   "id": "e6b0eb39-0e11-497a-b10c-24d97a46054b",
   "metadata": {},
   "outputs": [
    {
     "data": {
      "text/plain": [
       "array([-7.45634623])"
      ]
     },
     "execution_count": 57,
     "metadata": {},
     "output_type": "execute_result"
    }
   ],
   "source": [
    "model.intercept_ #b constant"
   ]
  },
  {
   "cell_type": "code",
   "execution_count": 58,
   "id": "6e53251f-0a19-4562-8ef2-45e613469fcb",
   "metadata": {},
   "outputs": [
    {
     "data": {
      "text/plain": [
       "array([[26.99575068]])"
      ]
     },
     "execution_count": 58,
     "metadata": {},
     "output_type": "execute_result"
    }
   ],
   "source": [
    "X_new=pd.DataFrame([[4,5]], columns=[\"sinif\",\"saat\"])\n",
    "model.predict(X_new)  #prediction"
   ]
  },
  {
   "cell_type": "code",
   "execution_count": 59,
   "id": "86410530-95f9-4705-bc92-cb1c70ef51ae",
   "metadata": {},
   "outputs": [
    {
     "data": {
      "text/plain": [
       "26.99575068"
      ]
     },
     "execution_count": 59,
     "metadata": {},
     "output_type": "execute_result"
    }
   ],
   "source": [
    "(4*1.86405074)+(5*5.39917879) + (-7.45634623)"
   ]
  },
  {
   "cell_type": "code",
   "execution_count": 60,
   "id": "cf9770f4-4a79-4e7a-8302-0f268f399230",
   "metadata": {},
   "outputs": [
    {
     "data": {
      "text/html": [
       "<div>\n",
       "<style scoped>\n",
       "    .dataframe tbody tr th:only-of-type {\n",
       "        vertical-align: middle;\n",
       "    }\n",
       "\n",
       "    .dataframe tbody tr th {\n",
       "        vertical-align: top;\n",
       "    }\n",
       "\n",
       "    .dataframe thead th {\n",
       "        text-align: right;\n",
       "    }\n",
       "</style>\n",
       "<table border=\"1\" class=\"dataframe\">\n",
       "  <thead>\n",
       "    <tr style=\"text-align: right;\">\n",
       "      <th></th>\n",
       "      <th>sinif</th>\n",
       "      <th>saat</th>\n",
       "      <th>puan</th>\n",
       "    </tr>\n",
       "  </thead>\n",
       "  <tbody>\n",
       "    <tr>\n",
       "      <th>0</th>\n",
       "      <td>3</td>\n",
       "      <td>4.508</td>\n",
       "      <td>19.202</td>\n",
       "    </tr>\n",
       "    <tr>\n",
       "      <th>1</th>\n",
       "      <td>4</td>\n",
       "      <td>0.096</td>\n",
       "      <td>7.734</td>\n",
       "    </tr>\n",
       "    <tr>\n",
       "      <th>2</th>\n",
       "      <td>4</td>\n",
       "      <td>3.133</td>\n",
       "      <td>13.811</td>\n",
       "    </tr>\n",
       "  </tbody>\n",
       "</table>\n",
       "</div>"
      ],
      "text/plain": [
       "   sinif   saat    puan\n",
       "0      3  4.508  19.202\n",
       "1      4  0.096   7.734\n",
       "2      4  3.133  13.811"
      ]
     },
     "execution_count": 60,
     "metadata": {},
     "output_type": "execute_result"
    }
   ],
   "source": [
    "df.head(3)"
   ]
  },
  {
   "cell_type": "code",
   "execution_count": 61,
   "id": "d1107c75-1a03-47d9-8246-121921d16a3e",
   "metadata": {},
   "outputs": [],
   "source": [
    "X_new = pd.DataFrame([[4, 4.508]], columns=[\"sinif\",\"saat\"])\n",
    "\n",
    "s1=model.predict(X_new)[0][0]"
   ]
  },
  {
   "cell_type": "code",
   "execution_count": 62,
   "id": "d4c9c7ea-80c9-4783-8b49-4d6736ac5a81",
   "metadata": {},
   "outputs": [
    {
     "data": {
      "text/plain": [
       "np.float64(0.2675426889853267)"
      ]
     },
     "execution_count": 62,
     "metadata": {},
     "output_type": "execute_result"
    }
   ],
   "source": [
    "-(19.202-s1)/19.202    #deviation"
   ]
  },
  {
   "cell_type": "code",
   "execution_count": 63,
   "id": "42798bd6-66e8-435a-8b96-675bcc565f04",
   "metadata": {},
   "outputs": [
    {
     "data": {
      "text/plain": [
       "0.9403656320238896"
      ]
     },
     "execution_count": 63,
     "metadata": {},
     "output_type": "execute_result"
    }
   ],
   "source": [
    "model.score(x,y)   #accuracy"
   ]
  }
 ],
 "metadata": {
  "kernelspec": {
   "display_name": "Python 3",
   "language": "python",
   "name": "python3"
  },
  "language_info": {
   "codemirror_mode": {
    "name": "ipython",
    "version": 3
   },
   "file_extension": ".py",
   "mimetype": "text/x-python",
   "name": "python",
   "nbconvert_exporter": "python",
   "pygments_lexer": "ipython3",
   "version": "3.10.0"
  }
 },
 "nbformat": 4,
 "nbformat_minor": 5
}
